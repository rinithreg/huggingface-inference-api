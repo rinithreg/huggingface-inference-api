{
 "cells": [
  {
   "cell_type": "code",
   "execution_count": 1,
   "id": "ed0912c9",
   "metadata": {},
   "outputs": [],
   "source": [
    "import requests\n",
    "from concurrent.futures import ThreadPoolExecutor\n",
    "import time"
   ]
  },
  {
   "cell_type": "code",
   "execution_count": 2,
   "id": "05abeaef",
   "metadata": {},
   "outputs": [],
   "source": [
    "API_URL = \"http://localhost:8000/infer\"\n",
    "\n",
    "data_samples = [\n",
    "    [\"I love this phone!\", \"This is the worst ever.\"],\n",
    "    [\"Amazing experience.\", \"Completely disappointed.\"],\n",
    "    [\"Totally worth it.\", \"I hate it.\"],\n",
    "] * 5  # 15 requests"
   ]
  },
  {
   "cell_type": "code",
   "execution_count": 3,
   "id": "5a01d0e1",
   "metadata": {},
   "outputs": [
    {
     "name": "stdout",
     "output_type": "stream",
     "text": [
      "Request 1: {'success': True, 'results': [{'label': 'POSITIVE', 'score': 0.9998351335525513}, {'label': 'NEGATIVE', 'score': 0.9997543692588806}]}\n",
      "Request 2: {'success': True, 'results': [{'label': 'POSITIVE', 'score': 0.999882698059082}, {'label': 'NEGATIVE', 'score': 0.9998067021369934}]}\n",
      "Request 3: {'success': True, 'results': [{'label': 'POSITIVE', 'score': 0.9998717308044434}, {'label': 'NEGATIVE', 'score': 0.9996691942214966}]}\n",
      "Request 4: {'success': True, 'results': [{'label': 'POSITIVE', 'score': 0.9998351335525513}, {'label': 'NEGATIVE', 'score': 0.9997543692588806}]}\n",
      "Request 5: {'success': True, 'results': [{'label': 'POSITIVE', 'score': 0.999882698059082}, {'label': 'NEGATIVE', 'score': 0.9998067021369934}]}\n",
      "Request 6: {'success': True, 'results': [{'label': 'POSITIVE', 'score': 0.9998717308044434}, {'label': 'NEGATIVE', 'score': 0.9996691942214966}]}\n",
      "Request 7: {'success': True, 'results': [{'label': 'POSITIVE', 'score': 0.9998351335525513}, {'label': 'NEGATIVE', 'score': 0.9997543692588806}]}\n",
      "Request 8: {'success': True, 'results': [{'label': 'POSITIVE', 'score': 0.999882698059082}, {'label': 'NEGATIVE', 'score': 0.9998067021369934}]}\n",
      "Request 9: {'success': True, 'results': [{'label': 'POSITIVE', 'score': 0.9998717308044434}, {'label': 'NEGATIVE', 'score': 0.9996691942214966}]}\n",
      "Request 10: {'success': True, 'results': [{'label': 'POSITIVE', 'score': 0.9998351335525513}, {'label': 'NEGATIVE', 'score': 0.9997543692588806}]}\n",
      "Request 11: {'success': True, 'results': [{'label': 'POSITIVE', 'score': 0.999882698059082}, {'label': 'NEGATIVE', 'score': 0.9998067021369934}]}\n",
      "Request 12: {'success': True, 'results': [{'label': 'POSITIVE', 'score': 0.9998717308044434}, {'label': 'NEGATIVE', 'score': 0.9996691942214966}]}\n",
      "Request 13: {'success': True, 'results': [{'label': 'POSITIVE', 'score': 0.9998351335525513}, {'label': 'NEGATIVE', 'score': 0.9997543692588806}]}\n",
      "Request 14: {'success': True, 'results': [{'label': 'POSITIVE', 'score': 0.999882698059082}, {'label': 'NEGATIVE', 'score': 0.9998067021369934}]}\n",
      "Request 15: {'success': True, 'results': [{'label': 'POSITIVE', 'score': 0.9998717308044434}, {'label': 'NEGATIVE', 'score': 0.9996691942214966}]}\n",
      "\n",
      "Completed in 3.03 seconds\n"
     ]
    }
   ],
   "source": [
    "def send_request(inputs):\n",
    "    payload = {\"inputs\": inputs}\n",
    "    response = requests.post(API_URL, json=payload)\n",
    "    return response.json()\n",
    "\n",
    "start = time.time()\n",
    "\n",
    "with ThreadPoolExecutor(max_workers=5) as executor:\n",
    "    results = list(executor.map(send_request, data_samples))\n",
    "\n",
    "end = time.time()\n",
    "\n",
    "for i, res in enumerate(results):\n",
    "    print(f\"Request {i+1}: {res}\")\n",
    "\n",
    "print(f\"\\nCompleted in {end - start:.2f} seconds\")"
   ]
  },
  {
   "cell_type": "code",
   "execution_count": null,
   "id": "0a6dee8f",
   "metadata": {},
   "outputs": [],
   "source": []
  }
 ],
 "metadata": {
  "kernelspec": {
   "display_name": "Python 3 (ipykernel)",
   "language": "python",
   "name": "python3"
  },
  "language_info": {
   "codemirror_mode": {
    "name": "ipython",
    "version": 3
   },
   "file_extension": ".py",
   "mimetype": "text/x-python",
   "name": "python",
   "nbconvert_exporter": "python",
   "pygments_lexer": "ipython3",
   "version": "3.11.5"
  }
 },
 "nbformat": 4,
 "nbformat_minor": 5
}
